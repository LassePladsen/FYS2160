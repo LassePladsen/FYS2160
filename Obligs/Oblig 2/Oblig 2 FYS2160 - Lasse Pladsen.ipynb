{
 "cells": [
  {
   "cell_type": "markdown",
   "source": [
    "# Oblig 2 FYS2160 - Lasse Pladsen\n",
    "## 1. THE EINSTEIN CRYSTAL\n",
    "### B.a) \n",
    "With $N=3$ oscillators and $q=3$ the following microstates are shown in matrix form with the columns representing an oscillator with the value representing $q$, meaning the rows are the different microstates:\n",
    "\\begin{gather*}\n",
    "    \\begin{pmatrix} \n",
    "        q_1 & q_2 & q_3 \\\\\n",
    "        0 & 0 & 3\n",
    "     \\\\ 0 & 3 & 0\n",
    "     \\\\ 3 & 0 & 0\n",
    "     \\\\ 0 & 1 & 2\n",
    "     \\\\ 1 & 0 & 2\n",
    "     \\\\ 0 & 2 & 1\n",
    "     \\\\ 1 & 2 & 0\n",
    "     \\\\ 2 & 1 & 0\n",
    "     \\\\ 2 & 0 & 1\n",
    "     \\\\ 1 & 1 & 1\n",
    "     \\end{pmatrix}\n",
    "\\end{gather*}\n",
    "\n",
    "### B.b)\n",
    "\\begin{gather*}\n",
    "    \\Omega(N=3,q=3)=\\frac{(3+3-1)!}{3!(3-1)!} = \\frac{(5)!}{3!(2)!} = 10\n",
    "\\end{gather*}\n",
    "which is correct and consistent with the number of microstates (number of rows) in the above matrix from Ba).\n",
    "\n",
    "### B.c)\n",
    "I will write this two-crystal system as a matrix multiplication $A\\ B$, where each matrix represents an Einstein crystal system, and again the columns are the oscillators and the rows are the microstates. We will ignore the problem where the matrix dimensions don't add up so we really cant multiply them. This is just my easy way of listing out the microstates. We have $N_A=2, q_A=5, N_B=2, q_B=1$:\n",
    "\\begin{gather*}\n",
    "    \\begin{pmatrix} \n",
    "       q_{A1} & q_{A2} \\\\\n",
    "       0 & 5 \\\\\n",
    "       5 & 0 \\\\\n",
    "       1 & 4 \\\\\n",
    "       4 & 1 \\\\\n",
    "       2 & 3 \\\\\n",
    "       3 & 2 \\\\\n",
    "    \\end{pmatrix}\n",
    "    \\begin{pmatrix}\n",
    "       q_{B1} & q_{B2} \\\\\n",
    "       0 & 1\n",
    "    \\\\ 1 & 0\n",
    "    \\end{pmatrix}\n",
    "\\end{gather*} \n",
    "\n",
    "### B.d)\n",
    "For $q=6$ we have the possible values of the two sub-energies $q_A$ and $q_B$ being\n",
    "\\begin{gather*}\n",
    "    \\begin{pmatrix}\n",
    "       q_A & q_B \\\\\n",
    "       0 & 6 \\\\\n",
    "       6 & 0 \\\\\n",
    "       1 & 5 \\\\\n",
    "       5 & 1 \\\\\n",
    "       2 & 4 \\\\\n",
    "       4 & 2 \\\\\n",
    "       3 & 3 \\\\ \n",
    "    \\end{pmatrix}\n",
    "\\end{gather*}\n",
    "where the columns represent system A and B, and the values $q_A$ and $q_B$.\n",
    "\n",
    "### B.e)\n",
    "We want the multiplicity $\\Omega$ for each $(q_A, q_B)$ pair, I will write a function using the given formula in equation (6) of the oblig."
   ],
   "metadata": {
    "collapsed": false
   },
   "id": "6994381c2739c43e"
  },
  {
   "cell_type": "code",
   "execution_count": 6,
   "outputs": [],
   "source": [
    "import matplotlib.pyplot as plt\n",
    "import numpy as np\n",
    "from math import factorial\n",
    "\n",
    "def einstein_multiplicity(N, q):\n",
    "    return factorial(N + q - 1) / (factorial(q) * factorial(N - 1))"
   ],
   "metadata": {
    "collapsed": false,
    "ExecuteTime": {
     "end_time": "2023-09-11T12:55:19.225663Z",
     "start_time": "2023-09-11T12:55:16.732473900Z"
    }
   },
   "id": "743ea549f4aed220"
  },
  {
   "cell_type": "markdown",
   "source": [
    "Since every $q_B$ value is correlated with $q_A$ we can simply write the function as $\\Omega(N_A,q_A)$ and give the multiplicity of a single macrostate $q_A$. I will now expand the program to simulate the coupled Einstein crystals. Since the two crystals are in thermal contact and therefore dependant on each other, the total multiplicity of a macrostate $q_A$ will therefore be the product of each of the systems multiplicity:\n",
    "\\begin{equation}\n",
    "$\\Omega_{tot}(N_A, N_B, q_A) = \\Omega_A(N_A,q_A) \\cdot \\Omega_B(N_B,(q-q_A))\n",
    "\\end{equation}\n",
    "I will implement this in a coupled Einstein crystal class:"
   ],
   "metadata": {
    "collapsed": false
   },
   "id": "f642663661750084"
  },
  {
   "cell_type": "code",
   "execution_count": 7,
   "outputs": [],
   "source": [
    "class Coupled_Einstein_Solids:\n",
    "    def __init__(self, N_A, N_B, q):\n",
    "        self.N_A = N_A\n",
    "        self.N_B = N_B\n",
    "        self.q = q\n",
    "\n",
    "    def omega_a(self, q_A):\n",
    "        return einstein_multiplicity(self.N_A, q_A)\n",
    "\n",
    "    def omega_b(self, q_A):\n",
    "        return einstein_multiplicity(self.N_B, self.q - q_A)\n",
    "\n",
    "    def omega_tot(self, q_A):\n",
    "        return self.omega_a(q_A) * self.omega_b(q_A)"
   ],
   "metadata": {
    "collapsed": false,
    "ExecuteTime": {
     "end_time": "2023-09-11T12:55:19.230300300Z",
     "start_time": "2023-09-11T12:55:19.227797300Z"
    }
   },
   "id": "7fee99eb1f093dc3"
  },
  {
   "cell_type": "markdown",
   "source": [
    "Of course we must have that the values are integers greater than zero, and that $q_A\\le q$, so this could be added as an error handling function at another time. We can test this with $N_A=N_B=2$ and for example $q_A=0,2,5,6$. From equation (6) in the oblig we this should give the following values respectively:\n",
    "\\begin{gather*}\n",
    "    \\Omega_{tot} = \\Omega_A\\ \\Omega_B = \\frac{(0+2-1)!}{0!(2-1)!} \\cdot \\frac{(6+2-1)!}{6!(2-1)!} = 1 \\cdot 7 = 7\n",
    "    \\\\ \\Omega_{tot} = \\frac{(2+2-1)!}{2!(2-1)!} \\cdot \\frac{(4+2-1)!}{4!(2-1)!} = 3 \\cdot 5 = 15\n",
    "    \\\\ \\Omega_{tot} = \\frac{(5+2-1)!}{5!(2-1)!} \\cdot \\frac{(1+2-1)!}{1!(2-1)!} = 6 \\cdot 2 = 12\n",
    "    \\\\ \\Omega_{tot} = \\frac{(6+2-1)!}{6!(2-1)!} \\cdot \\frac{(0+2-1)!}{0!(2-1)!} = 7 \\cdot 1 = 7\n",
    "\\end{gather*}\n"
   ],
   "metadata": {
    "collapsed": false
   },
   "id": "8fcb11d4bfd22759"
  },
  {
   "cell_type": "code",
   "execution_count": 8,
   "outputs": [
    {
     "name": "stdout",
     "output_type": "stream",
     "text": [
      "7.0\n",
      "15.0\n",
      "12.0\n",
      "7.0\n"
     ]
    }
   ],
   "source": [
    "a = Coupled_Einstein_Solids(2, 2, 6)\n",
    "for q_Ai in [0, 2, 5, 6]:\n",
    "    print(a.omega_tot(q_Ai))"
   ],
   "metadata": {
    "collapsed": false,
    "ExecuteTime": {
     "end_time": "2023-09-11T12:55:19.241094200Z",
     "start_time": "2023-09-11T12:55:19.231295200Z"
    }
   },
   "id": "219144e13e162b02"
  },
  {
   "cell_type": "markdown",
   "source": [
    "Which we here see is correct. Then to find the probabilites we will need to calculate the total number of $\\Omega_{tot}$ for all values of $q_A$ for a given $N_a,N_B,q$, assuming that each microstate are equally probable:\n"
   ],
   "metadata": {
    "collapsed": false
   },
   "id": "e47ae69050558622"
  },
  {
   "cell_type": "code",
   "execution_count": 9,
   "outputs": [],
   "source": [
    "class Coupled_Einstein_Solids(Coupled_Einstein_Solids):\n",
    "    def __init__(self, N_A, N_B, q):\n",
    "        super().__init__(N_A, N_B, q)\n",
    "        \n",
    "        # calculate total multiplicity (omega) for all macrostates (total number of microstates) of given values N_A, N_B, and q:\n",
    "        self.omega_all = 0\n",
    "        for q_A in range(self.q + 1):  # q_A = 0, 1, ... , q\n",
    "            self.omega_all += self.omega_tot(q_A)\n",
    "            \n",
    "    def probability(self, q_A):\n",
    "        return self.omega_tot(q_A) / self.omega_all\n",
    "    "
   ],
   "metadata": {
    "collapsed": false,
    "ExecuteTime": {
     "end_time": "2023-09-11T12:55:19.245344Z",
     "start_time": "2023-09-11T12:55:19.239095200Z"
    }
   },
   "id": "8d1d479d054c4a29"
  },
  {
   "cell_type": "markdown",
   "source": [
    "Lets then print each probability "
   ],
   "metadata": {
    "collapsed": false
   },
   "id": "dfee6b61f3ad97fd"
  },
  {
   "cell_type": "code",
   "execution_count": 10,
   "outputs": [
    {
     "name": "stdout",
     "output_type": "stream",
     "text": [
      "P(q_A=0) = 8.33 %.\n",
      "P(q_A=1) = 14.29 %.\n",
      "P(q_A=2) = 17.86 %.\n",
      "P(q_A=3) = 19.05 %.\n",
      "P(q_A=4) = 17.86 %.\n",
      "P(q_A=5) = 14.29 %.\n",
      "P(q_A=6) = 8.33 %.\n"
     ]
    }
   ],
   "source": [
    "a = Coupled_Einstein_Solids(2, 2, 6)\n",
    "for q_Ai in range(7):\n",
    "    print(f\"P(q_A={q_Ai}) = {a.probability(q_Ai)*100:.2f} %.\")"
   ],
   "metadata": {
    "collapsed": false,
    "ExecuteTime": {
     "end_time": "2023-09-11T12:55:19.279953500Z",
     "start_time": "2023-09-11T12:55:19.245344Z"
    }
   },
   "id": "4b80843bf1bf476b"
  },
  {
   "cell_type": "markdown",
   "source": [
    "### B.f)\n",
    "Before the system came in contact we see from B.c) that we have 6 microstates in system A and 2 in system B giving the total number of microstates as $6\\cdot2=14$. Then after the systems came in contact we have:"
   ],
   "metadata": {
    "collapsed": false
   },
   "id": "46810d32643524fa"
  },
  {
   "cell_type": "code",
   "execution_count": 11,
   "outputs": [
    {
     "data": {
      "text/plain": "84.0"
     },
     "execution_count": 11,
     "metadata": {},
     "output_type": "execute_result"
    }
   ],
   "source": [
    "a.omega_all"
   ],
   "metadata": {
    "collapsed": false,
    "ExecuteTime": {
     "end_time": "2023-09-11T12:55:19.286918800Z",
     "start_time": "2023-09-11T12:55:19.252365400Z"
    }
   },
   "id": "4f1637ad6513fd5f"
  },
  {
   "cell_type": "markdown",
   "source": [
    "84 total number of microstates, which is 6 times as many from before contact, which is equal to our $q$-value. If we test another system with $q=2$ we will before contact have the following amount of microstates:\n",
    "\\begin{gather*}\n",
    "    \\Omega(2, 2) \\cdot \\Omega(2, 1)= \\frac{(2+2-1)!}{2!(2-1)!} \\cdot \\frac{(1+2-1)!}{1!(2-1)!} = 3\\cdot 2 = 5\n",
    "\\end{gather*}\n",
    "and from our code we have"
   ],
   "metadata": {
    "collapsed": false
   },
   "id": "52574402e1c5dd24"
  },
  {
   "cell_type": "code",
   "execution_count": 12,
   "outputs": [
    {
     "data": {
      "text/plain": "20.0"
     },
     "execution_count": 12,
     "metadata": {},
     "output_type": "execute_result"
    }
   ],
   "source": [
    "b = Coupled_Einstein_Solids(2, 2, 3)\n",
    "b.omega_all"
   ],
   "metadata": {
    "collapsed": false,
    "ExecuteTime": {
     "end_time": "2023-09-11T12:55:19.286918800Z",
     "start_time": "2023-09-11T12:55:19.269850100Z"
    }
   },
   "id": "6eadec5d1e9eaf59"
  },
  {
   "cell_type": "markdown",
   "source": [
    "which is 4 as many, which leads me to believe that the earlier matching of number of microstates before and after contact with $q=6$ was a coincidence.\n",
    "\n",
    "### B.g)\n",
    "We extend our code"
   ],
   "metadata": {
    "collapsed": false
   },
   "id": "b8f3471b798401d5"
  },
  {
   "cell_type": "code",
   "execution_count": 13,
   "outputs": [
    {
     "name": "stdout",
     "output_type": "stream",
     "text": [
      "Highest probability: q_A = 50 with P = 5.62 %\n"
     ]
    },
    {
     "data": {
      "text/plain": "<Figure size 640x480 with 1 Axes>",
      "image/png": "[encoded data removed]"
     },
     "metadata": {},
     "output_type": "display_data"
    }
   ],
   "source": [
    "class Coupled_Einstein_Solids(Coupled_Einstein_Solids):\n",
    "    def probability_plot(self):\n",
    "        P_list = np.zeros(self.q+1)\n",
    "        q_A_list = np.arange(0, self.q+1)\n",
    "        for i, q_A in enumerate(q_A_list):\n",
    "            P_list[i] = self.probability(q_A) * 100\n",
    "    \n",
    "        # Plot\n",
    "        plt.plot(q_A_list, P_list)\n",
    "        plt.xlabel(\"$q_A$\")\n",
    "        plt.ylabel(\"$P(q_A)$ [%]\")\n",
    "        plt.title(f\"Probability plot. q = {self.q}, $N_A$ = {self.N_A}, $N_A$ = {self.N_A}.\")\n",
    "        max_index = np.argmax(P_list)\n",
    "        print(f\"Highest probability: q_A = {q_A_list[max_index]:.0f} with P = {P_list[max_index]:.2f} %\")\n",
    "\n",
    "a = Coupled_Einstein_Solids(50, 50, 100)\n",
    "a.probability_plot()"
   ],
   "metadata": {
    "collapsed": false,
    "ExecuteTime": {
     "end_time": "2023-09-11T12:55:19.945223Z",
     "start_time": "2023-09-11T12:55:19.275970700Z"
    }
   },
   "id": "fb103f2bf5e6b8b7"
  },
  {
   "cell_type": "markdown",
   "source": [
    "The most probable macrostate is $q_A=q_B=50$ with probability $P(50)=5.62\\%$."
   ],
   "metadata": {
    "collapsed": false
   },
   "id": "524f6e08a267dc38"
  },
  {
   "cell_type": "markdown",
   "source": [
    "### C.a)\n",
    "First we take the natural logarithm, then use $N>>1$:\n",
    "\\begin{gather*}\n",
    "    \\ln\\Omega(N,q) = \\ln\\left(\\frac{(q+N-1)!}{q!(N-1)!}\\right)\n",
    "    \\\\ \\simeq \\ln\\left(\\frac{(q+N)!}{q!N!}\\right)\n",
    "    \\\\ = \\ln(q+N)! - \\ln q! - \\ln N!\n",
    "\\end{gather*}\n",
    "here we use Stirling's approximation:\n",
    "\\begin{gather*}\n",
    "    \\simeq (q+N)(\\ln (q+N) - 1) - q(\\ln q -1)  - N(\\ln N -1 )\n",
    "\\end{gather*}\n",
    "\\begin{gather*}\n",
    "    = (q+N)\\left(\\ln \\left[q\\left(1+\\frac{N}{q}\\right)\\right] - 1\\right) - q(\\ln q -1)  - N(\\ln N -1 )\n",
    "    \\\\ = (q+N)\\left(\\ln q + \\ln\\left(1+\\frac{N}{q}\\right) - 1\\right) - q(\\ln q -1)  - N(\\ln N -1 )\n",
    "\\end{gather*}\n",
    "now we use that $N/q<<1$ with the first order Taylor expansion on $\\ln (1+N/q)$:\n",
    "\\begin{gather*}\n",
    "    \\simeq (q+N) \\left( \\ln q + \\frac{N}{q} - 1\\right) - q(\\ln q - 1)  - N(\\ln N -1 )\n",
    "    \\\\ = q\\ln q + N\\ln q + N + \\frac{N^2}{q} - q - N - q \\ln q + q - N \\ln N + N \n",
    "    \\\\ = N \\ln q + \\frac{N^2}{q} + N - N\\ln N\n",
    "    \\\\ = N\\ln\\frac{q}{N}  + \\frac{N^2}{q} + N \n",
    "    \\\\ = N \\left( \\ln\\frac{q}{N} + \\frac{N}{q} + 1\\right)\n",
    "\\end{gather*} \n",
    "again we use $N/q << 1$:\n",
    "\\begin{equation}\n",
    "     \\Rightarrow \\ln\\Omega(N,q) = N \\left( \\ln\\frac{q}{N} + 1\\right)\n",
    "\\end{equation} \n",
    "which is the simplified formula I needed to show."
   ],
   "metadata": {
    "collapsed": false
   },
   "id": "7224ec4b0126658"
  },
  {
   "cell_type": "markdown",
   "source": [
    "### C.b)\n",
    "Boltzmann's formula for entropy is defined as\n",
    "\\begin{equation}\n",
    "    S = k\\ln\\Omega\n",
    "\\end{equation}\n",
    "So we combine the two previous formulas into an expression for the entropy of the Einstein crystal as:\n",
    "\\begin{equation}\n",
    "    S = k N \\left( \\ln\\frac{q}{N} + 1\\right)\n",
    "\\end{equation}\n",
    "\n",
    "### C.c)\n",
    " We put the previous formula into $\\frac{\\partial S}{\\partial U} = \\frac{1}{T}$ and manipulate it as such:\n",
    " \\begin{gather*}\n",
    "    \\frac{1}{T} = \\frac{\\partial S}{\\partial U} = \\frac{\\partial S}{\\partial q} \\frac{\\partial q}{\\partial U} \n",
    " \\end{gather*}\n",
    " here we use that equation (4) for $q$ from the oblig. We can now differentiate $S$ and $q$:\n",
    "  \\begin{gather*}\n",
    "    = kN\\frac{1}{q}\\ \\frac{1}{\\epsilon}\n",
    "    \\\\ = \\frac{kN}{\\epsilon q}\n",
    " \\end{gather*}\n",
    " meaning that we have our expression\n",
    " \\begin{equation}\n",
    "    T = \\frac{k}{\\epsilon} \\frac{q}{N}\n",
    " \\end{equation}\n",
    " This means that the temperature is proportional to the energy value $q$ which seems correct. Then its also inversely proportional with the oscillator count $N$ which may also seem correct. Thinking of an exmaple; if we hold $q$ constant and increase the count $N$ then there will be more oscillators to split the same energy over, meaning less energy per oscillator. This is the analogous to having less average kinetic energy per particle which we know equals less temperature. Therefore this seems right with the equation.\n",
    " \n",
    "In addition, from equation (4) of the oblig we have that \n",
    "\\begin{gather*}\n",
    "    \\frac{q}{N} = \\frac{1}{N} \\sum_{i=1}^N n_i\n",
    "\\end{gather*}\n",
    "which we idenfity as the average energy level $\\bar{n}$, which makes sense to be proportional to the temperature."
   ],
   "metadata": {
    "collapsed": false
   },
   "id": "2942c2ea5d12690a"
  },
  {
   "cell_type": "markdown",
   "source": [
    "## II. THE SPIN SYSTEM\n",
    "### B.a)\n",
    "???\n",
    "\n",
    "### B.b)\n",
    "The total energy will be the sum of each of the energies:\n",
    "\\begin{equation}\n",
    "    E_{tot} = \\sum_{i=1}^N E_i = -\\mu B \\sum_{i=1}^N S_i = -\\mu B s\n",
    "\\end{equation}\n",
    "\n",
    "### B.c)"
   ],
   "metadata": {
    "collapsed": false
   },
   "id": "15c284e9ddbaec90"
  },
  {
   "cell_type": "code",
   "execution_count": 76,
   "outputs": [
    {
     "data": {
      "text/plain": "<Figure size 1200x400 with 2 Axes>",
      "image/png": "[encoded data removed]"
     },
     "metadata": {},
     "output_type": "display_data"
    }
   ],
   "source": [
    "## PARAMETERS\n",
    "M = 10000  # number of microstates to generate\n",
    "N = 50  # number of spins/particles per microstate\n",
    "\n",
    "# For each microstate, generate random total unitless energy with values in [-N, N] from a uniform dist\n",
    "E = np.random.randint(-N, N+1, M)\n",
    "\n",
    "## Plotting\n",
    "plt.figure(figsize=(12, 4))\n",
    "\n",
    "# Hist plot\n",
    "plt.subplot(1, 2, 1)\n",
    "plt.title(\"Histogram\")\n",
    "plt.hist(E/N, rwidth=0.8)\n",
    "plt.xlabel(r\"Energy $\\frac{1}{N}\\frac{E}{\\mu B}$\")\n",
    "plt.ylabel(\"Quantity\")\n",
    "\n",
    "# Bar plot\n",
    "plt.subplot(1, 2, 2)\n",
    "plt.title(\"Bar plot\")\n",
    "plt.bar(range(1, M+1), E/N, width=1)\n",
    "plt.xlabel(\"Microstate #\")\n",
    "plt.ylabel(r\"Energy $\\frac{1}{N}\\frac{E}{\\mu B}$\")\n",
    "\n",
    "plt.tight_layout()"
   ],
   "metadata": {
    "collapsed": false,
    "ExecuteTime": {
     "end_time": "2023-09-11T13:36:17.330134500Z",
     "start_time": "2023-09-11T13:36:06.058852400Z"
    }
   },
   "id": "54d879b4b5db65b3"
  },
  {
   "cell_type": "markdown",
   "source": [
    "### B.d)\n",
    "The multiplicity of a binary/two-state system like we have here ($S_i$ is either $S_+$ or $S_-$) is generally\n",
    "\\begin{equation}\n",
    "    \\Omega(N, S_+) = \\begin{pmatrix} N  \\\\ S_+ \\end{pmatrix} = \\frac{N!}{S_+!(N-S_+)!} = \\frac{N!}{S_+!S_-!}\n",
    "\\end{equation}\n",
    "where I use $N=S_+ + S_-$ which gives us what we wanted to show.\n",
    "\n",
    "### B.e)\n",
    "From $2s=S_+-S_-$ we combine $S_-=S_+-2s$ with $S_+=N-S_-$ and get:\n",
    "\\begin{gather*}\n",
    "    S_+ = N - S_- = N - S_+ + 2s\n",
    "    \\\\ 2S_+ = N + 2s\n",
    "    \\\\ S_+ = \\frac{N}{2} + s\n",
    "\\end{gather*}\n",
    "and the same for $S_-$:\n",
    "\\begin{gather*}\n",
    "    S_- = N - S_+ = N - 2s - S_-\n",
    "    \\\\ 2S_- = N - 2s\n",
    "    \\\\ S_- = \\frac{N}{2} - s\n",
    "\\end{gather*}\n",
    "we put this into the above equation then we get what we wanted to show:\n",
    "\\begin{equation}\n",
    "    \\Omega(N,s) = \\frac{N!}{\\left(\\frac{N}{2} + s\\right)!\\left(\\frac{N}{2} - s\\right)!}\n",
    "\\end{equation}\n",
    "\n",
    "### B.f)\n",
    "By mapping this problem onto the Einstein-solid problem that had the following expression\n",
    "\\begin{equation*}\n",
    "    \\ln\\Omega(N,q) = N \\left( \\ln\\frac{q}{N} + 1\\right)\n",
    "\\end{equation*}\n",
    "then by solving for $\\Omega$ we get\n",
    "\\begin{gather*}\n",
    "    \\Omega(N,s) = e^{N \\left( \\ln\\frac{s}{N} + 1\\right)} \\ \\ \\  ??\n",
    "\\end{gather*}\n",
    "\n",
    "...\n",
    "\n",
    "### B.g)\n",
    "Below I plot the $\\Omega(N,s$ function"
   ],
   "metadata": {
    "collapsed": false
   },
   "id": "bd927b85468c85f7"
  },
  {
   "cell_type": "code",
   "execution_count": 82,
   "outputs": [
    {
     "data": {
      "text/plain": "Text(0, 0.5, '$\\\\Omega(N,s)/\\\\Omega(N,0)$')"
     },
     "execution_count": 82,
     "metadata": {},
     "output_type": "execute_result"
    },
    {
     "data": {
      "text/plain": "<Figure size 640x480 with 1 Axes>",
      "image/png": "[encoded data removed]"
     },
     "metadata": {},
     "output_type": "display_data"
    }
   ],
   "source": [
    "s = 0.5*np.linspace(-N, N, 500)\n",
    "plt.plot(s, np.exp(-2*s*s/N))\n",
    "plt.xlabel(\"s\")\n",
    "plt.ylabel(\"$\\Omega(N,s)/\\Omega(N,0)$\")"
   ],
   "metadata": {
    "collapsed": false,
    "ExecuteTime": {
     "end_time": "2023-09-11T14:21:00.937061600Z",
     "start_time": "2023-09-11T14:21:00.816236400Z"
    }
   },
   "id": "536b619df252e19"
  },
  {
   "cell_type": "markdown",
   "source": [
    "........................................"
   ],
   "metadata": {
    "collapsed": false
   },
   "id": "951c3fc84bf28be"
  },
  {
   "cell_type": "markdown",
   "source": [
    "## REFERENCES\n",
    " Schroeder, Daniel V., $\\textit{An Introduction to Thermal Physics}$ (Oxford, 2021; online edn, Oxford Academic, 18 Mar. 2021), https://doi.org/10.1093/oso/9780192895547.001.0001, accessed 6 Sept. 2023. "
   ],
   "metadata": {
    "collapsed": false
   },
   "id": "17a6ae105452ae75"
  }
 ],
 "metadata": {
  "kernelspec": {
   "display_name": "Python 3",
   "language": "python",
   "name": "python3"
  },
  "language_info": {
   "codemirror_mode": {
    "name": "ipython",
    "version": 2
   },
   "file_extension": ".py",
   "mimetype": "text/x-python",
   "name": "python",
   "nbconvert_exporter": "python",
   "pygments_lexer": "ipython2",
   "version": "2.7.6"
  }
 },
 "nbformat": 4,
 "nbformat_minor": 5
}
