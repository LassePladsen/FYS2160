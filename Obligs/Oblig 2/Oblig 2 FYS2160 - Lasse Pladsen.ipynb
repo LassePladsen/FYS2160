{
 "cells": [
  {
   "cell_type": "markdown",
   "source": [
    "# Oblig 2 FYS2160 - Lasse Pladsen\n",
    "## 1. THE EINSTEIN CRYSTAL\n",
    "### B.a) \n",
    "With $N=3$ oscillators and $q=3$ the following microstates are shown in matrix form with the columns representing an oscillator with the value representing $q$, meaning the rows are the different microstates:\n",
    "\\begin{gather}\n",
    "    \\begin{pmatrix} \n",
    "        q_1 & q_2 & q_3 \\\\\n",
    "        0 & 0 & 3\n",
    "     \\\\ 0 & 3 & 0\n",
    "     \\\\ 3 & 0 & 0\n",
    "     \\\\ 0 & 1 & 2\n",
    "     \\\\ 1 & 0 & 2\n",
    "     \\\\ 0 & 2 & 1\n",
    "     \\\\ 1 & 2 & 0\n",
    "     \\\\ 2 & 1 & 0\n",
    "     \\\\ 2 & 0 & 1\n",
    "     \\\\ 1 & 1 & 1\n",
    "     \\end{pmatrix}\n",
    "\\end{gather}\n",
    "\n",
    "### B.b)\n",
    "\\begin{gather}\n",
    "    \\Omega(N=3,q=3)=\\frac{(3+3-1)!}{3!(3-1)!} = \\frac{(5)!}{3!(2)!} = 10\n",
    "\\end{gather}\n",
    "which is correct and consistent with the number of microstates (number of rows) in the above matrix from B.a).\n",
    "\n",
    "### B.c)\n",
    "I will write this two-crystal system as a matrix multiplication $A\\ B$, where each matrix represents an Einstein crystal system, and again the columns are the oscillators and the rows are the microstates. We will ignore the problem where the matrix dimensions don't add up so we really cant multiply them. This is just my easy way of listing out the microstates. We have $N_A=2, q_A=5, N_B=2, q_B=1$:\n",
    "\\begin{gather}\n",
    "    \\begin{pmatrix} \n",
    "       q_{A1} & q_{A2} \\\\\n",
    "       0 & 5 \\\\\n",
    "       5 & 0 \\\\\n",
    "       1 & 4 \\\\\n",
    "       4 & 1 \\\\\n",
    "       2 & 3 \\\\\n",
    "       3 & 2 \\\\\n",
    "    \\end{pmatrix}\n",
    "    \\begin{pmatrix}\n",
    "       q_{B1} & q_{B2} \\\\\n",
    "       0 & 1\n",
    "    \\\\ 1 & 0\n",
    "    \\end{pmatrix}\n",
    "\\end{gather} \n",
    "\n",
    "### B.d)\n",
    "For $q=6$ we have the possible values of the two sub-energies $q_A$ and $q_B$ being\n",
    "\\begin{gather}\n",
    "    \\begin{pmatrix}\n",
    "       q_A & q_B \\\\\n",
    "       0 & 6 \\\\\n",
    "       6 & 0 \\\\\n",
    "       1 & 5 \\\\\n",
    "       5 & 1 \\\\\n",
    "       2 & 4 \\\\\n",
    "       4 & 2 \\\\\n",
    "       3 & 3 \\\\ \n",
    "    \\end{pmatrix}\n",
    "\\end{gather}\n",
    "where the columns represent system A and B, and the values $q_A$ and $q_B$.\n",
    "\n",
    "### B.e)\n",
    "We want the multiplicity $\\Omega$ for each $(q_A, q_B)$ pair, I will write a function using the given formula in equation (6) of the oblig."
   ],
   "metadata": {
    "collapsed": false
   },
   "id": "6994381c2739c43e"
  },
  {
   "cell_type": "code",
   "execution_count": 34,
   "outputs": [],
   "source": [
    "import matplotlib.pyplot as plt\n",
    "import numpy as np\n",
    "from math import factorial\n",
    "\n",
    "def einstein_multiplicity(N, q):\n",
    "    return factorial(N + q - 1) / (factorial(q) * factorial(N - 1))"
   ],
   "metadata": {
    "collapsed": false,
    "ExecuteTime": {
     "end_time": "2023-09-14T08:46:12.418980900Z",
     "start_time": "2023-09-14T08:46:12.299322800Z"
    }
   },
   "id": "743ea549f4aed220"
  },
  {
   "cell_type": "markdown",
   "source": [
    "Since every $q_B$ value is correlated with $q_A$ we can simply write the function as $\\Omega(N_A,q_A)$ and give the multiplicity of a single macrostate $q_A$. I will now expand the program to simulate the coupled Einstein crystals. Since the two crystals are in thermal contact and therefore dependant on each other, the total multiplicity of a macrostate $q_A$ will therefore be the product of each of the systems multiplicity:\n",
    "\\begin{equation}\n",
    "    \\Omega_{tot}(N_A, N_B, q_A) = \\Omega_A(N_A,q_A) \\cdot \\Omega_B(N_B,(q-q_A))\n",
    "\\end{equation}\n",
    "I will implement this in a coupled Einstein crystal class:"
   ],
   "metadata": {
    "collapsed": false
   },
   "id": "f642663661750084"
  },
  {
   "cell_type": "code",
   "execution_count": 35,
   "outputs": [],
   "source": [
    "class Coupled_Einstein_Solids:\n",
    "    def __init__(self, N_A, N_B, q):\n",
    "        self.N_A = N_A\n",
    "        self.N_B = N_B\n",
    "        self.q = q\n",
    "\n",
    "    def omega_a(self, q_A):\n",
    "        return einstein_multiplicity(self.N_A, q_A)\n",
    "\n",
    "    def omega_b(self, q_A):\n",
    "        return einstein_multiplicity(self.N_B, self.q - q_A)\n",
    "\n",
    "    def omega_tot(self, q_A):\n",
    "        return self.omega_a(q_A) * self.omega_b(q_A)"
   ],
   "metadata": {
    "collapsed": false,
    "ExecuteTime": {
     "end_time": "2023-09-14T08:46:12.436932800Z",
     "start_time": "2023-09-14T08:46:12.303841200Z"
    }
   },
   "id": "7fee99eb1f093dc3"
  },
  {
   "cell_type": "markdown",
   "source": [
    "Of course we must have that the values are integers greater than zero, and that $q_A\\le q$, so this could be added as an error handling method at another time. We can test this with $N_A=N_B=2$ and for example $q_A=0,2,5,6$. From equation (6) in the oblig we this should give the following values respectively:\n",
    "\\begin{gather}\n",
    "    \\Omega_{tot} = \\Omega_A\\ \\Omega_B = \\frac{(0+2-1)!}{0!(2-1)!} \\cdot \\frac{(6+2-1)!}{6!(2-1)!} = 1 \\cdot 7 = 7\n",
    "    \\\\ \\Omega_{tot} = \\frac{(2+2-1)!}{2!(2-1)!} \\cdot \\frac{(4+2-1)!}{4!(2-1)!} = 3 \\cdot 5 = 15\n",
    "    \\\\ \\Omega_{tot} = \\frac{(5+2-1)!}{5!(2-1)!} \\cdot \\frac{(1+2-1)!}{1!(2-1)!} = 6 \\cdot 2 = 12\n",
    "    \\\\ \\Omega_{tot} = \\frac{(6+2-1)!}{6!(2-1)!} \\cdot \\frac{(0+2-1)!}{0!(2-1)!} = 7 \\cdot 1 = 7\n",
    "\\end{gather}\n"
   ],
   "metadata": {
    "collapsed": false
   },
   "id": "8fcb11d4bfd22759"
  },
  {
   "cell_type": "code",
   "execution_count": 36,
   "outputs": [
    {
     "name": "stdout",
     "output_type": "stream",
     "text": [
      "7.0\n",
      "15.0\n",
      "12.0\n",
      "7.0\n"
     ]
    }
   ],
   "source": [
    "a = Coupled_Einstein_Solids(2, 2, 6)\n",
    "for q_Ai in [0, 2, 5, 6]:\n",
    "    print(a.omega_tot(q_Ai))"
   ],
   "metadata": {
    "collapsed": false,
    "ExecuteTime": {
     "end_time": "2023-09-14T08:46:12.437930400Z",
     "start_time": "2023-09-14T08:46:12.309200400Z"
    }
   },
   "id": "219144e13e162b02"
  },
  {
   "cell_type": "markdown",
   "source": [
    "Which we here see is correct. Then to find the probabilites we will need to calculate the total number of $\\Omega_{tot}$ for all values of $q_A$ for a given $N_a,N_B,q$, assuming that each microstate are equally probable:\n"
   ],
   "metadata": {
    "collapsed": false
   },
   "id": "e47ae69050558622"
  },
  {
   "cell_type": "code",
   "execution_count": 37,
   "outputs": [],
   "source": [
    "class Coupled_Einstein_Solids(Coupled_Einstein_Solids):\n",
    "    def __init__(self, N_A, N_B, q):\n",
    "        super().__init__(N_A, N_B, q)\n",
    "        \n",
    "        # calculate total multiplicity (omega) for all macrostates (total number of microstates) of given values N_A, N_B, and q:\n",
    "        self.omega_all = 0\n",
    "        for q_A in range(self.q + 1):  # q_A = 0, 1, ... , q\n",
    "            self.omega_all += self.omega_tot(q_A)\n",
    "            \n",
    "    def probability(self, q_A):\n",
    "        return self.omega_tot(q_A) / self.omega_all\n",
    "    "
   ],
   "metadata": {
    "collapsed": false,
    "ExecuteTime": {
     "end_time": "2023-09-14T08:46:12.480815500Z",
     "start_time": "2023-09-14T08:46:12.318522100Z"
    }
   },
   "id": "8d1d479d054c4a29"
  },
  {
   "cell_type": "markdown",
   "source": [
    "Lets then print each probability "
   ],
   "metadata": {
    "collapsed": false
   },
   "id": "dfee6b61f3ad97fd"
  },
  {
   "cell_type": "code",
   "execution_count": 38,
   "outputs": [
    {
     "name": "stdout",
     "output_type": "stream",
     "text": [
      "P(q_A=0) = 8.33 %.\n",
      "P(q_A=1) = 14.29 %.\n",
      "P(q_A=2) = 17.86 %.\n",
      "P(q_A=3) = 19.05 %.\n",
      "P(q_A=4) = 17.86 %.\n",
      "P(q_A=5) = 14.29 %.\n",
      "P(q_A=6) = 8.33 %.\n"
     ]
    }
   ],
   "source": [
    "a = Coupled_Einstein_Solids(2, 2, 6)\n",
    "for q_Ai in range(7):\n",
    "    print(f\"P(q_A={q_Ai}) = {a.probability(q_Ai)*100:.2f} %.\")"
   ],
   "metadata": {
    "collapsed": false,
    "ExecuteTime": {
     "end_time": "2023-09-14T08:46:12.482810100Z",
     "start_time": "2023-09-14T08:46:12.324870500Z"
    }
   },
   "id": "4b80843bf1bf476b"
  },
  {
   "cell_type": "markdown",
   "source": [
    "### B.f)\n",
    "Before the system came in contact we see from B.c) that we have 6 microstates in system A and 2 in system B giving the total number of microstates as $6\\cdot2=14$. Then after the systems came in contact we have:"
   ],
   "metadata": {
    "collapsed": false
   },
   "id": "46810d32643524fa"
  },
  {
   "cell_type": "code",
   "execution_count": 39,
   "outputs": [
    {
     "data": {
      "text/plain": "84.0"
     },
     "execution_count": 39,
     "metadata": {},
     "output_type": "execute_result"
    }
   ],
   "source": [
    "a.omega_all"
   ],
   "metadata": {
    "collapsed": false,
    "ExecuteTime": {
     "end_time": "2023-09-14T08:46:12.482810100Z",
     "start_time": "2023-09-14T08:46:12.332106800Z"
    }
   },
   "id": "4f1637ad6513fd5f"
  },
  {
   "cell_type": "markdown",
   "source": [
    "84 total number of microstates, which is 6 times as many from before contact, which is equal to our $q$-value. If we test another system with $q=2$ we will before contact have the following amount of microstates:\n",
    "\\begin{gather}\n",
    "    \\Omega(2, 2) \\cdot \\Omega(2, 1)= \\frac{(2+2-1)!}{2!(2-1)!} \\cdot \\frac{(1+2-1)!}{1!(2-1)!} = 3\\cdot 2 = 5\n",
    "\\end{gather}\n",
    "and from our code we have"
   ],
   "metadata": {
    "collapsed": false
   },
   "id": "52574402e1c5dd24"
  },
  {
   "cell_type": "code",
   "execution_count": 40,
   "outputs": [
    {
     "data": {
      "text/plain": "20.0"
     },
     "execution_count": 40,
     "metadata": {},
     "output_type": "execute_result"
    }
   ],
   "source": [
    "b = Coupled_Einstein_Solids(2, 2, 3)\n",
    "b.omega_all"
   ],
   "metadata": {
    "collapsed": false,
    "ExecuteTime": {
     "end_time": "2023-09-14T08:46:12.482810100Z",
     "start_time": "2023-09-14T08:46:12.337625200Z"
    }
   },
   "id": "6eadec5d1e9eaf59"
  },
  {
   "cell_type": "markdown",
   "source": [
    "which is 4 as many, which leads me to believe that the earlier matching of number of microstates before and after contact with $q=6$ was a coincidence.\n",
    "\n",
    "### B.g)\n",
    "We extend our code"
   ],
   "metadata": {
    "collapsed": false
   },
   "id": "b8f3471b798401d5"
  },
  {
   "cell_type": "code",
   "execution_count": 41,
   "outputs": [
    {
     "name": "stdout",
     "output_type": "stream",
     "text": [
      "Highest probability: q_A = 50 with P = 5.62 %\n"
     ]
    },
    {
     "data": {
      "text/plain": "<Figure size 640x480 with 1 Axes>",
      "image/png": "[encoded data removed]"
     },
     "metadata": {},
     "output_type": "display_data"
    }
   ],
   "source": [
    "class Coupled_Einstein_Solids(Coupled_Einstein_Solids):\n",
    "    def probability_plot(self):\n",
    "        P_list = np.zeros(self.q+1)\n",
    "        q_A_list = np.arange(0, self.q+1)\n",
    "        for i, q_A in enumerate(q_A_list):\n",
    "            P_list[i] = self.probability(q_A) * 100\n",
    "    \n",
    "        # Plot\n",
    "        plt.plot(q_A_list, P_list)\n",
    "        plt.xlabel(\"$q_A$\")\n",
    "        plt.ylabel(\"$P(q_A)$ [%]\")\n",
    "        plt.title(f\"Probability plot. q = {self.q}, $N_A$ = {self.N_A}, $N_A$ = {self.N_A}.\")\n",
    "        max_index = np.argmax(P_list)\n",
    "        print(f\"Highest probability: q_A = {q_A_list[max_index]:.0f} with P = {P_list[max_index]:.2f} %\")\n",
    "\n",
    "a = Coupled_Einstein_Solids(50, 50, 100)\n",
    "a.probability_plot()"
   ],
   "metadata": {
    "collapsed": false,
    "ExecuteTime": {
     "end_time": "2023-09-14T08:46:12.501077300Z",
     "start_time": "2023-09-14T08:46:12.348170500Z"
    }
   },
   "id": "fb103f2bf5e6b8b7"
  },
  {
   "cell_type": "markdown",
   "source": [
    "The most probable macrostate is $q_A=q_B=50$ with probability $P(50)=5.62\\%$."
   ],
   "metadata": {
    "collapsed": false
   },
   "id": "524f6e08a267dc38"
  },
  {
   "cell_type": "markdown",
   "source": [
    "### C.a)\n",
    "First we take the natural logarithm, then use $N>>1$:\n",
    "\\begin{gather}\n",
    "    \\ln\\Omega(N,q) = \\ln\\left(\\frac{(q+N-1)!}{q!(N-1)!}\\right)\n",
    "    \\\\ \\simeq \\ln\\left(\\frac{(q+N)!}{q!N!}\\right)\n",
    "    \\\\ = \\ln(q+N)! - \\ln q! - \\ln N!\n",
    "\\end{gather}\n",
    "here we use Stirling's approximation:\n",
    "\\begin{gather}\n",
    "    \\simeq (q+N)(\\ln (q+N) - 1) - q(\\ln q -1)  - N(\\ln N -1 )\n",
    "\\end{gather}\n",
    "\\begin{gather}\n",
    "    = (q+N)\\left(\\ln \\left[q\\left(1+\\frac{N}{q}\\right)\\right] - 1\\right) - q(\\ln q -1)  - N(\\ln N -1 )\n",
    "    \\\\ = (q+N)\\left(\\ln q + \\ln\\left(1+\\frac{N}{q}\\right) - 1\\right) - q(\\ln q -1)  - N(\\ln N -1 )\n",
    "\\end{gather}\n",
    "now we use that $N/q<<1$ with the first order Taylor expansion on $\\ln (1+N/q)$:\n",
    "\\begin{gather}\n",
    "    \\simeq (q+N) \\left( \\ln q + \\frac{N}{q} - 1\\right) - q(\\ln q - 1)  - N(\\ln N -1 )\n",
    "    \\\\ = q\\ln q + N\\ln q + N + \\frac{N^2}{q} - q - N - q \\ln q + q - N \\ln N + N \n",
    "    \\\\ = N \\ln q + \\frac{N^2}{q} + N - N\\ln N\n",
    "    \\\\ = N\\ln\\frac{q}{N}  + \\frac{N^2}{q} + N \n",
    "\\end{gather} \n",
    "here we again use that $N/q << 1$ such that $N^2/q\\approx 0$:\n",
    "$$\n",
    "     \\simeq N \\left( \\ln\\frac{q}{N}  + 1\\right)\n",
    "$$\n",
    "\\begin{equation}\n",
    "     \\Rightarrow \\ln\\Omega(N,q) = N \\left( \\ln\\frac{q}{N} + 1\\right)\n",
    "\\end{equation} \n",
    "which is the simplified formula I needed to show."
   ],
   "metadata": {
    "collapsed": false
   },
   "id": "7224ec4b0126658"
  },
  {
   "cell_type": "markdown",
   "source": [
    "### C.b)\n",
    "Boltzmann's formula for entropy is defined as\n",
    "\\begin{equation}\n",
    "    S = k\\ln\\Omega\n",
    "\\end{equation}\n",
    "So we combine the two previous formulas into an expression for the entropy of the Einstein crystal as:\n",
    "\\begin{equation}\n",
    "    S = k N \\left( \\ln\\frac{q}{N} + 1\\right)\n",
    "\\end{equation}\n",
    "\n",
    "### C.c)\n",
    " We put the previous formula into $\\frac{\\partial S}{\\partial U} = \\frac{1}{T}$ and manipulate it as such:\n",
    " \\begin{gather}\n",
    "    \\frac{1}{T} = \\frac{\\partial S}{\\partial U} = \\frac{\\partial S}{\\partial q} \\frac{\\partial q}{\\partial U} \n",
    " \\end{gather}\n",
    " here we use that equation (4) for $q$ from the oblig. We can now differentiate $S$ and $q$:\n",
    "  \\begin{gather}\n",
    "    = kN\\frac{1}{q}\\ \\frac{1}{\\epsilon}\n",
    "    \\\\ = \\frac{kN}{\\epsilon q}\n",
    " \\end{gather}\n",
    " meaning that we have our expression\n",
    " \\begin{equation}\n",
    "    T = \\frac{k}{\\epsilon} \\frac{q}{N}\n",
    " \\end{equation}\n",
    " This means that the temperature is proportional to the energy value $q$ which seems correct. Then its also inversely proportional with the oscillator count $N$ which may also seem correct. Thinking of an exmaple; if we hold $q$ constant and increase the count $N$ then there will be more oscillators to split the same energy over, meaning less energy per oscillator. This is the analogous to having less average kinetic energy per particle which we know equals less temperature. Therefore this seems right with the equation.\n",
    " \n",
    "In addition, from equation (4) of the oblig we have that \n",
    "\\begin{gather}\n",
    "    \\frac{q}{N} = \\frac{1}{N} \\sum_{i=1}^N n_i\n",
    "\\end{gather}\n",
    "which we identify as the average energy level $\\bar{n}$, which makes sense to be proportional to the temperature."
   ],
   "metadata": {
    "collapsed": false
   },
   "id": "2942c2ea5d12690a"
  },
  {
   "cell_type": "markdown",
   "source": [
    "## II. THE SPIN SYSTEM\n",
    "### B.a)\n",
    "This is a binary/two-state system where each spin is independant to each other with two different states, up or down. This means that to enumerate the microstates we just need to raise 2 to the power of the particle count, meaning the total number of microstates in a $N$-spin system is \n",
    "$$\n",
    "    2^N\n",
    "$$ \n",
    "\n",
    "### B.b)\n",
    "The total energy will be the sum of each of the energies:\n",
    "\\begin{equation}\n",
    "    E_{tot} = \\sum_{i=1}^N E_i = -\\mu B \\sum_{i=1}^N S_i = -2\\mu B s\n",
    "\\end{equation}\n",
    "\n",
    "### B.c)"
   ],
   "metadata": {
    "collapsed": false
   },
   "id": "15c284e9ddbaec90"
  },
  {
   "cell_type": "code",
   "execution_count": 42,
   "outputs": [
    {
     "data": {
      "text/plain": "<Figure size 1200x400 with 2 Axes>",
      "image/png": "[encoded data removed]"
     },
     "metadata": {},
     "output_type": "display_data"
    }
   ],
   "source": [
    "## PARAMETERS\n",
    "M = 10000  # number of microstates to generate\n",
    "N = 50  # number of spins/particles per microstate\n",
    "\n",
    "# For each microstate, we generate a random number of S_+ (spin up) and S_- (spin down), I choose to represent 1 with spin up and 0 with spin down\n",
    "E = np.zeros(M)\n",
    "for i in range(M):\n",
    "    # Generate N random spins up (1) or down (0) and count to find the total spin 2s.\n",
    "    S_plus = np.count_nonzero(np.random.randint(0, 2, N))\n",
    "    S_minus = N - S_plus\n",
    "    E[i] = (S_plus - S_minus)/2\n",
    "\n",
    "## Plotting\n",
    "plt.figure(figsize=(12, 4))\n",
    "\n",
    "# Hist plot\n",
    "plt.subplot(1, 2, 1)\n",
    "plt.title(\"Histogram\")\n",
    "plt.hist(E, bins=2*N, rwidth=1)\n",
    "plt.xlabel(r\"Energy $\\frac{E}{\\mu B}$\")\n",
    "plt.ylabel(\"Quantity\")\n",
    "plt.xticks(range(-N, N+1, 10))\n",
    "\n",
    "# Bar plot\n",
    "plt.subplot(1, 2, 2)\n",
    "plt.title(\"Bar plot\")\n",
    "plt.bar(range(M), E, width=1)\n",
    "plt.xlabel(\"Microstate #\")\n",
    "plt.ylabel(r\"Energy $\\frac{E}{\\mu B}$\")\n",
    "\n",
    "plt.tight_layout()"
   ],
   "metadata": {
    "collapsed": false,
    "ExecuteTime": {
     "end_time": "2023-09-14T08:46:22.132096300Z",
     "start_time": "2023-09-14T08:46:12.499082800Z"
    }
   },
   "id": "54d879b4b5db65b3"
  },
  {
   "cell_type": "markdown",
   "source": [
    "We see that the histogram of the energies is in a normal distribution."
   ],
   "metadata": {
    "collapsed": false
   },
   "id": "cb674d73bd29c7d0"
  },
  {
   "cell_type": "markdown",
   "source": [
    "### B.d)\n",
    "The multiplicity of a binary/two-state system like we have here ($S_i$ is either $S_+$ or $S_-$) is generally\n",
    "\\begin{equation}\n",
    "    \\Omega(N, S_+) = \\begin{pmatrix} N  \\\\ S_+ \\end{pmatrix} = \\frac{N!}{S_+!(N-S_+)!} = \\frac{N!}{S_+!S_-!}\n",
    "\\end{equation}\n",
    "where I use $N=S_+ + S_-$ which gives us what we wanted to show.\n",
    "\n",
    "### B.e)\n",
    "From $2s=S_+-S_-$ we combine $S_-=S_+-2s$ with $S_+=N-S_-$ and get:\n",
    "\\begin{gather}\n",
    "    S_+ = N - S_- = N - S_+ + 2s\n",
    "    \\\\ 2S_+ = N + 2s\n",
    "    \\\\ S_+ = \\frac{N}{2} + s\n",
    "\\end{gather}\n",
    "and the same for $S_-$:\n",
    "\\begin{gather}\n",
    "    S_- = N - S_+ = N - 2s - S_-\n",
    "    \\\\ 2S_- = N - 2s\n",
    "    \\\\ S_- = \\frac{N}{2} - s\n",
    "\\end{gather}\n",
    "we put this into the above equation then we get what we wanted to show:\n",
    "\\begin{equation}\n",
    "    \\Omega(N,s) = \\frac{N!}{\\left(\\frac{N}{2} + s\\right)!\\left(\\frac{N}{2} - s\\right)!}\n",
    "\\end{equation}\n",
    "\n",
    "### B.f)\n",
    "I want to map this problem onto a normal distribution, using the binomial distribution first. Firstly I substitute the variable $$\\frac{N}{2}+s=k$$ which then gives \n",
    "$$\n",
    "    \\frac{N}{2}-s = N - \\frac{N}{2} - s \n",
    "    \\\\ = N - (\\frac{N}{2} + s ) \n",
    "    \\\\ = N-k\n",
    "    \\\\ \\Rightarrow \\Omega(N, k) = \\frac{N!}{k!(N-k)!} = \\begin{pmatrix} N \\\\ k \\end{pmatrix}\n",
    "$$\n",
    "we can now see our $\\Omega$ is now in the binomial shape, and the probability function $P(N,k)$ is just the multiplicity $\\Omega$ divided by the total number of microstate which is $2^N$:\n",
    "$$  P(N,k) = \\begin{pmatrix} N \\\\ k \\end{pmatrix}2^{-N} $$\n",
    "Let us now take a look at the binomial distribution's probability function given as \n",
    "$$  P(n,K) = \\begin{pmatrix} n \\\\ k \\end{pmatrix} p^k (1-p)^{n-k}$$\n",
    "where $n$ is the total number of trials, $k$ is the number of successes (or a chosen state to measure), and $p$ is the probability of $k$ happening each attempt. For our binary system we have $p=0.5$ which gives\n",
    "$$\n",
    "    P(n,k) = \\begin{pmatrix} n \\\\ k \\end{pmatrix} 0.5^k 0.5^{n-k}\n",
    "    \\\\ =\\begin{pmatrix} n \\\\ k \\end{pmatrix} 0.5^n\n",
    "    \\\\ =\\begin{pmatrix} n \\\\ k \\end{pmatrix} 2^{-n}\n",
    "$$\n",
    "which is identical to our $P(N,k)$ for our system with $n=N$ and $k=\\frac{N}{2} + s$. Since our $N>>1$ this binomial distribution is approximated by the normal distribution ([Wikipedia](https://en.wikipedia.org/w/index.php?title=Binomial_distribution&oldid=1157026974) , 2023, \"Normal approximation\") with $\\mu=np=N/2$ and $\\sigma^2=np(1-p)=N/4$. "
   ],
   "metadata": {
    "collapsed": false
   },
   "id": "bd927b85468c85f7"
  },
  {
   "cell_type": "markdown",
   "source": [
    "We put this into the expression for the normal distribution:\n",
    "$$\n",
    "    P(k) = \\frac{1}{\\sigma \\sqrt{2\\pi}} exp\\left(-\\frac{1}{2}  \\frac{(k-\\mu)^2}{\\sigma^2}\\right)\n",
    "    \\\\ P(N,k) = \\frac{1}{\\frac{\\sqrt{N}}{2} \\sqrt{2\\pi}} exp\\left(-\\frac{1}{2}  \\frac{(k-N/2)^2}{N/4}\\right)\n",
    "    \\\\ = \\sqrt{\\frac{2}{N\\pi}} exp\\left(-\\frac{1}{2}  \\frac{(k-N/2)^2}{N/4}\\right)\n",
    "    \\\\ = \\sqrt{\\frac{2}{N\\pi}} exp\\left(-2\\frac{k^2+ N^2/4 - kN}{N}\\right)\n",
    "    \\\\ = P(N, s) = \\sqrt{\\frac{2}{N\\pi}} exp\\left(-2\\frac{(\\frac{N}{2}+s)^2+ N^2/4 - (\\frac{N}{2}+s)N}{N}\\right)\n",
    "    \\\\ = \\sqrt{\\frac{2}{N\\pi}} exp\\left(-2\\frac{(\\frac{N^2}{4}+s^2 + Ns)+ N^2/4 - (\\frac{N^2}{2}+Ns)}{N}\\right)\n",
    "    \\\\ = \\sqrt{\\frac{2}{N\\pi}} exp\\left(-2\\frac{\\frac{N^2}{2}+s^2   - \\frac{N^2}{2}}{N}\\right)\n",
    "    \\\\ = \\sqrt{\\frac{2}{N\\pi}} exp\\left(-2\\frac{s^2}{N}\\right)\n",
    "$$ \n",
    "We have now shown that our $\\Omega$ function is approximated by this normal distribution function at high $N$-values $N>>1$. To finish our expression we see that \n",
    "$$\n",
    "    P(N, 0) = \\sqrt{\\frac{2}{N\\pi}} exp(0)\n",
    "    \\\\ =  \\sqrt{\\frac{2}{N\\pi}}\n",
    "$$\n",
    "such that \n",
    "$$\n",
    "    P(N,s) = P(N, 0)exp\\left(-2\\frac{s^2}{N}\\right)\n",
    "    \\\\ \\Rightarrow \\Omega(N,s) = \\Omega(N, 0)exp\\left(-2\\frac{s^2}{N}\\right)\n",
    "$$\n",
    "which is what I wanted to show.\n",
    "\n",
    "\n",
    "### B.g)\n",
    "Below I plot the $\\Omega(N,s)$ function"
   ],
   "metadata": {
    "collapsed": false
   },
   "id": "fd4342f6e8616600"
  },
  {
   "cell_type": "code",
   "execution_count": 43,
   "outputs": [
    {
     "data": {
      "text/plain": "Text(0, 0.5, '$\\\\Omega(N,s)/\\\\Omega(N,0)$')"
     },
     "execution_count": 43,
     "metadata": {},
     "output_type": "execute_result"
    },
    {
     "data": {
      "text/plain": "<Figure size 640x480 with 1 Axes>",
      "image/png": "[encoded data removed]"
     },
     "metadata": {},
     "output_type": "display_data"
    }
   ],
   "source": [
    "s = np.linspace(-N, N, 500)\n",
    "plt.plot(s, np.exp(-2*s*s/N))\n",
    "plt.xlabel(\"s\")\n",
    "plt.ylabel(\"$\\Omega(N,s)/\\Omega(N,0)$\")"
   ],
   "metadata": {
    "collapsed": false,
    "ExecuteTime": {
     "end_time": "2023-09-14T08:46:22.246439200Z",
     "start_time": "2023-09-14T08:46:22.134111700Z"
    }
   },
   "id": "536b619df252e19"
  },
  {
   "cell_type": "markdown",
   "source": [
    "This is a normal distribution which is the same as in my previous histogram of the energy counts. This tells us that $s=0$ is the most probably state, and $s=0$ means that there are an equal number of spin up and spin down particles. So the most probable macrostate is the one where $S_+=S_-$ and the total spin cancels out $s=0$. \n",
    "\n",
    "### B.h)\n",
    "We find the entropy\n",
    "\\begin{gather}\n",
    "    S(N, S_+) = k\\ln \\Omega (N, S_+) \n",
    "    \\\\ = k \\ln \\left(\\Omega(N,0) e^{-2s^2/N}\\right) \n",
    "    \\\\ = k \\left(\\ln \\Omega(N,0) - \\frac{2s^2}{N} \\right)\n",
    "    \\\\ = k \\left(\\ln \\Omega(N,0) - \\frac{2(S_+-S_-)^2}{N} \\right)\n",
    "    \\\\ = k \\left(\\ln \\Omega(N,0) - \\frac{2(S_+-(N-S_+))^2}{N} \\right)\n",
    "\\end{gather}\n",
    "\\begin{equation}\n",
    "    S(N, S_+) = k \\left(\\ln \\Omega(N,0) - \\frac{2(2S_+-N)^2}{N} \\right)\n",
    "\\end{equation}"
   ],
   "metadata": {
    "collapsed": false
   },
   "id": "951c3fc84bf28be"
  },
  {
   "cell_type": "markdown",
   "source": [
    "\n",
    "### B.i)\n",
    "I want to find an expression for $T$:\n",
    "$$\n",
    "    \\frac{1}{T} = \\left(\\frac{\\partial S}{\\partial U}\\right)_{N,V} = \\frac{\\partial S}{\\partial U}\n",
    "    \\\\ = \\frac{\\partial S}{\\partial S_+} \\frac{\\partial S_+}{\\partial U}\n",
    "$$\n",
    "Firstly I find the first differential \n",
    "$$\n",
    "     \\frac{\\partial S}{\\partial S_+} =  \\frac{\\partial}{\\partial S_+}\\left[ k \\left(\\ln \\Omega(N,0) - \\frac{2(2S_+-N)^2}{N} \\right) \\right] \n",
    "     \\\\ = -\\frac{2k}{N} \\frac{\\partial}{\\partial S_+}\\left[(2S_+-N)^2\\right] \n",
    "     \\\\ = -\\frac{2k}{N} \\frac{\\partial}{\\partial S_+}\\left[4S_+^2 + N^2 - 4S_+N\\right] \n",
    "     \\\\ = -\\frac{2k}{N} \\left(8S_+- 4N\\right)\n",
    "     \\\\ = 8k \\left(1- 2\\frac{S_+}{N}\\right)\n",
    "$$\n",
    "Then to find the second differential I use $U=E_{tot}=-2\\mu B s = -\\mu B (S_+-S_-)$ which gives the following expression for $S_+(E)=S_+(U)$:\n",
    "$$\n",
    "    S_+(U) = S_- - \\frac{U}{\\mu B}\n",
    "$$\n",
    "which then gives the second differential expression:\n",
    "$$\n",
    "    \\frac{\\partial S_+}{\\partial U} = -\\frac{1}{\\mu B}\n",
    "$$\n",
    "Now I can put these two differentials back into our temperature derivation:\n",
    "$$\n",
    "    \\frac{1}{T} = \\frac{\\partial S}{\\partial S_+} \\frac{\\partial S_+}{\\partial U}\n",
    "    \\\\ = -8k \\left(1- 2\\frac{S_+}{N}\\right) \\frac{1}{\\mu B}\n",
    "    \\\\ = \\frac{8k}{\\mu B} \\left(4\\frac{S_+}{N} - 1\\right) \n",
    "$$\n",
    "which then gives the following expression for the temperature $T$:\n",
    "$$\n",
    "    T = \\frac{\\mu B}{8k} \\left(4\\frac{S_+}{N} - 1\\right)^{-1}\n",
    "$$\n",
    "    "
   ],
   "metadata": {
    "collapsed": false
   },
   "id": "8309a63511a5a4e0"
  },
  {
   "cell_type": "markdown",
   "source": [
    "## REFERENCES   \n",
    "- Wikipedia contributors. (2023, May 25). Binomial distribution. In Wikipedia, The Free Encyclopedia. Retrieved 13:35, September 13, 2023, from https://en.wikipedia.org/w/index.php?title=Binomial_distribution&oldid=1157026974. "
   ],
   "metadata": {
    "collapsed": false
   },
   "id": "17a6ae105452ae75"
  }
 ],
 "metadata": {
  "kernelspec": {
   "display_name": "Python 3",
   "language": "python",
   "name": "python3"
  },
  "language_info": {
   "codemirror_mode": {
    "name": "ipython",
    "version": 2
   },
   "file_extension": ".py",
   "mimetype": "text/x-python",
   "name": "python",
   "nbconvert_exporter": "python",
   "pygments_lexer": "ipython2",
   "version": "2.7.6"
  }
 },
 "nbformat": 4,
 "nbformat_minor": 5
}
